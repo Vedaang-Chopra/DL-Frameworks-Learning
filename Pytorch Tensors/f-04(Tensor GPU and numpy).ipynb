{
 "cells": [
  {
   "cell_type": "code",
   "execution_count": 2,
   "metadata": {},
   "outputs": [],
   "source": [
    "import torch"
   ]
  },
  {
   "cell_type": "code",
   "execution_count": 3,
   "metadata": {},
   "outputs": [
    {
     "name": "stdout",
     "output_type": "stream",
     "text": [
      "tensor([[[-1.3661,  0.6346,  0.1168, -1.1562],\n",
      "         [ 0.9549,  2.7669, -0.1460, -1.1923],\n",
      "         [-2.4166, -0.5575, -0.1595, -0.3779]],\n",
      "\n",
      "        [[ 0.1521,  0.9622, -1.8090,  0.3845],\n",
      "         [ 1.6780, -0.7819,  0.6705,  0.8674],\n",
      "         [ 1.2633,  1.0293, -0.7091,  1.2727]]])\n",
      "torch.Size([2, 3, 4])\n"
     ]
    }
   ],
   "source": [
    "## To reshape a tensor, there are several methods available.\n",
    "x1=torch.randn(2,3,4)\n",
    "print(x1)\n",
    "print(x1.size())\n"
   ]
  },
  {
   "cell_type": "code",
   "execution_count": 4,
   "metadata": {},
   "outputs": [
    {
     "name": "stdout",
     "output_type": "stream",
     "text": [
      "tensor([[-1.3661,  0.6346,  0.1168, -1.1562,  0.9549,  2.7669, -0.1460, -1.1923,\n",
      "         -2.4166, -0.5575, -0.1595, -0.3779],\n",
      "        [ 0.1521,  0.9622, -1.8090,  0.3845,  1.6780, -0.7819,  0.6705,  0.8674,\n",
      "          1.2633,  1.0293, -0.7091,  1.2727]])\n",
      "torch.Size([2, 12])\n"
     ]
    }
   ],
   "source": [
    "# Method-1 : - Using view() method\n",
    "x1_view=x1.view(2,12)\n",
    "print(x1_view)\n",
    "print(x1_view.size())"
   ]
  },
  {
   "cell_type": "code",
   "execution_count": 21,
   "metadata": {},
   "outputs": [
    {
     "name": "stdout",
     "output_type": "stream",
     "text": [
      "torch.Size([3, 8])\n"
     ]
    }
   ],
   "source": [
    "# You can also use -1 to infer the size of one dimension\n",
    "x2_view=x1.view(3,-1)\n",
    "print(x2_view.shape)"
   ]
  },
  {
   "cell_type": "code",
   "execution_count": null,
   "metadata": {},
   "outputs": [
    {
     "name": "stdout",
     "output_type": "stream",
     "text": [
      "Original Shape torch.Size([3, 226, 226])\n",
      "Shape after unsqueeze(0) torch.Size([1, 3, 226, 226])\n",
      "tensor([[[[0.2418, 0.1209, 0.9333,  ..., 0.4434, 0.7505, 0.4618],\n",
      "          [0.9685, 0.2189, 0.7590,  ..., 0.8405, 0.1660, 0.4205],\n",
      "          [0.3107, 0.8769, 0.3714,  ..., 0.7730, 0.3236, 0.4696],\n",
      "          ...,\n",
      "          [0.5068, 0.4148, 0.3646,  ..., 0.7379, 0.7623, 0.3199],\n",
      "          [0.2004, 0.1082, 0.8174,  ..., 0.0166, 0.6501, 0.8799],\n",
      "          [0.1199, 0.0561, 0.3592,  ..., 0.9152, 0.1133, 0.8859]],\n",
      "\n",
      "         [[0.3461, 0.9956, 0.0943,  ..., 0.6121, 0.6805, 0.5320],\n",
      "          [0.5685, 0.8532, 0.5558,  ..., 0.1218, 0.7122, 0.5459],\n",
      "          [0.3922, 0.4420, 0.8524,  ..., 0.2882, 0.1139, 0.1862],\n",
      "          ...,\n",
      "          [0.4736, 0.5190, 0.2122,  ..., 0.9093, 0.3334, 0.4955],\n",
      "          [0.3826, 0.3988, 0.1167,  ..., 0.8257, 0.3649, 0.6493],\n",
      "          [0.1050, 0.5908, 0.9890,  ..., 0.6614, 0.5766, 0.1885]],\n",
      "\n",
      "         [[0.8250, 0.8137, 0.0911,  ..., 0.5003, 0.1769, 0.1661],\n",
      "          [0.9081, 0.6438, 0.1849,  ..., 0.1925, 0.0322, 0.7429],\n",
      "          [0.5423, 0.6500, 0.1179,  ..., 0.5095, 0.8510, 0.4199],\n",
      "          ...,\n",
      "          [0.5823, 0.6329, 0.7666,  ..., 0.7194, 0.0044, 0.4978],\n",
      "          [0.3060, 0.1315, 0.7923,  ..., 0.2622, 0.7918, 0.4361],\n",
      "          [0.8929, 0.6835, 0.8746,  ..., 0.3398, 0.8242, 0.6957]]]])\n",
      "Shape after unsqueeze(3) torch.Size([1, 3, 226, 1, 226])\n"
     ]
    }
   ],
   "source": [
    "# Method-2: - Using unsqueeze() method\n",
    "# The unsqueeze() method adds a dimension of extent 1. unsqueeze(0) adds it as a new zeroth dimension - now you have a batch of one!\n",
    "# The unqsueeze(1) adds it as the first dimension, and so on.\n",
    "# Basically the unsqueeze method takes the index of the dimension you want to add and adds it as a new dimension.\n",
    "\n",
    "x = torch.rand(3, 226, 226)\n",
    "print(\"Original Shape\",x.shape)\n",
    "x = x.unsqueeze(0)\n",
    "print(\"Shape after unsqueeze(0)\",x.shape)\n",
    "print(x)\n",
    "print(\"Shape after unsqueeze(3)\",x.unsqueeze(3).shape)"
   ]
  },
  {
   "cell_type": "code",
   "execution_count": 14,
   "metadata": {},
   "outputs": [
    {
     "name": "stdout",
     "output_type": "stream",
     "text": [
      "Original Shape torch.Size([1, 20])\n",
      "tensor([[0.7520, 0.2768, 0.3315, 0.6909, 0.1261, 0.1157, 0.9555, 0.0650, 0.9761,\n",
      "         0.4292, 0.6884, 0.7489, 0.7745, 0.8374, 0.2852, 0.2947, 0.8555, 0.5285,\n",
      "         0.1198, 0.9310]])\n",
      "Shape after squeeze(0) torch.Size([20])\n",
      "tensor([0.7520, 0.2768, 0.3315, 0.6909, 0.1261, 0.1157, 0.9555, 0.0650, 0.9761,\n",
      "        0.4292, 0.6884, 0.7489, 0.7745, 0.8374, 0.2852, 0.2947, 0.8555, 0.5285,\n",
      "        0.1198, 0.9310])\n"
     ]
    }
   ],
   "source": [
    "# Method-3: - Using squeeze() method\n",
    "\n",
    "x= torch.rand(1, 20)\n",
    "print(\"Original Shape\",x.shape)\n",
    "print(x)\n",
    "print(\"Shape after squeeze(0)\",x.squeeze(0).shape)\n",
    "print(x.squeeze(0))\n",
    "\n",
    "# Note : - \n",
    "# You may only squeeze() dimensions of extent 1. See above where we try to squeeze a dimension of size 2 in c, and get back the same shape we started with. \n",
    "# Calls to squeeze() and unsqueeze() can only act on dimensions of extent 1 because to do otherwise would change the number of elements in the tensor."
   ]
  },
  {
   "cell_type": "code",
   "execution_count": 17,
   "metadata": {},
   "outputs": [
    {
     "name": "stdout",
     "output_type": "stream",
     "text": [
      "tensor([[[0.8632, 0.8949, 0.1843, 0.4637],\n",
      "         [0.3386, 0.9443, 0.0105, 0.5202],\n",
      "         [0.9395, 0.7215, 0.4317, 0.6668]],\n",
      "\n",
      "        [[0.1116, 0.2385, 0.7048, 0.4262],\n",
      "         [0.6821, 0.9079, 0.0781, 0.1545],\n",
      "         [0.3201, 0.7143, 0.2382, 0.9765]]]) torch.Size([2, 3, 4])\n",
      "Post Permute\n",
      "tensor([[[0.8632, 0.3386, 0.9395],\n",
      "         [0.8949, 0.9443, 0.7215],\n",
      "         [0.1843, 0.0105, 0.4317],\n",
      "         [0.4637, 0.5202, 0.6668]],\n",
      "\n",
      "        [[0.1116, 0.6821, 0.3201],\n",
      "         [0.2385, 0.9079, 0.7143],\n",
      "         [0.7048, 0.0781, 0.2382],\n",
      "         [0.4262, 0.1545, 0.9765]]]) torch.Size([2, 4, 3])\n"
     ]
    }
   ],
   "source": [
    "## Method 4: - Using Permute() method\n",
    "x=torch.rand(2,3,4)\n",
    "print(x, x.shape)\n",
    "\n",
    "# The permute function is used to reorder the dimensions of the tensor. It takes the desired order of dimensions as arguments.\n",
    "# Example: - say x has 3 dimensions (2,3,4) and you want to reorder them to (2,4,3) then you can use permute(0,2,1). 0,2,1 signifies 0th, 2nd and 1st dimension.\n",
    "\n",
    "z = x.permute(0, 2, 1)  # Reorders dimensions\n",
    "print(\"Post Permute\")\n",
    "print(z, z.shape)\n"
   ]
  },
  {
   "cell_type": "code",
   "execution_count": 18,
   "metadata": {},
   "outputs": [
    {
     "name": "stdout",
     "output_type": "stream",
     "text": [
      "tensor([[ 0.0480, -0.4201, -0.0834,  0.7209, -1.1456,  0.4769, -2.5682, -0.1019,\n",
      "         -0.5168,  0.4965]])\n",
      "Post Permute: tensor([[ 0.0480],\n",
      "        [-0.4201],\n",
      "        [-0.0834],\n",
      "        [ 0.7209],\n",
      "        [-1.1456],\n",
      "        [ 0.4769],\n",
      "        [-2.5682],\n",
      "        [-0.1019],\n",
      "        [-0.5168],\n",
      "        [ 0.4965]])\n"
     ]
    }
   ],
   "source": [
    "x2=torch.randn(1,10)\n",
    "print(x2)\n",
    "print(\"Post Permute:\", x2.permute(1,0))\n"
   ]
  },
  {
   "cell_type": "code",
   "execution_count": 20,
   "metadata": {},
   "outputs": [
    {
     "name": "stdout",
     "output_type": "stream",
     "text": [
      "Original Shape torch.Size([2, 3, 4])\n",
      "Post Flatten\n",
      "tensor([-0.0502,  2.0640,  0.4220,  0.5353, -0.7027, -0.9192, -0.2429,  1.7850,\n",
      "         0.0170, -1.2968,  0.5875,  0.1563, -0.2008, -0.3261, -0.4684,  0.3127,\n",
      "        -0.0094, -0.2043,  2.8271,  1.1605, -2.1868, -0.0929,  0.5267, -1.1337]) torch.Size([24])\n"
     ]
    }
   ],
   "source": [
    "# Method 5: - Using Flatten() method\n",
    "\n",
    "x=torch.randn(2,3,4)\n",
    "print(\"Original Shape\",x.shape)\n",
    "print(\"Post Flatten\")\n",
    "print(x.flatten(), x.flatten().shape)"
   ]
  },
  {
   "cell_type": "code",
   "execution_count": null,
   "metadata": {},
   "outputs": [],
   "source": []
  },
  {
   "cell_type": "code",
   "execution_count": null,
   "metadata": {},
   "outputs": [],
   "source": []
  },
  {
   "cell_type": "code",
   "execution_count": null,
   "metadata": {},
   "outputs": [],
   "source": []
  },
  {
   "cell_type": "code",
   "execution_count": null,
   "metadata": {},
   "outputs": [],
   "source": []
  }
 ],
 "metadata": {
  "kernelspec": {
   "display_name": "learning_env",
   "language": "python",
   "name": "python3"
  },
  "language_info": {
   "codemirror_mode": {
    "name": "ipython",
    "version": 3
   },
   "file_extension": ".py",
   "mimetype": "text/x-python",
   "name": "python",
   "nbconvert_exporter": "python",
   "pygments_lexer": "ipython3",
   "version": "3.11.9"
  }
 },
 "nbformat": 4,
 "nbformat_minor": 2
}
