{
 "cells": [
  {
   "cell_type": "code",
   "execution_count": null,
   "metadata": {},
   "outputs": [],
   "source": [
    "import torch"
   ]
  },
  {
   "cell_type": "markdown",
   "metadata": {},
   "source": [
    "## Operations on Tensor"
   ]
  },
  {
   "cell_type": "code",
   "execution_count": null,
   "metadata": {},
   "outputs": [
    {
     "name": "stdout",
     "output_type": "stream",
     "text": [
      "tensor([[0.4115, 0.6839],\n",
      "        [0.0703, 0.5105]])\n",
      "tensor([[0.9451, 0.2359],\n",
      "        [0.1979, 0.3327]])\n"
     ]
    },
    {
     "data": {
      "text/plain": [
       "(None, None)"
      ]
     },
     "metadata": {},
     "output_type": "display_data"
    }
   ],
   "source": [
    "# Defining basic Tensors\n",
    "x1=torch.rand(2,2)\n",
    "x2=torch.rand(2,2)\n",
    "print(x1), print(x2)"
   ]
  },
  {
   "cell_type": "markdown",
   "metadata": {},
   "source": [
    "### Performing Scalar operations on single tensor"
   ]
  },
  {
   "cell_type": "code",
   "execution_count": null,
   "metadata": {},
   "outputs": [
    {
     "name": "stdout",
     "output_type": "stream",
     "text": [
      "tensor([[1., 1.],\n",
      "        [1., 1.]])\n",
      "tensor([[2., 2.],\n",
      "        [2., 2.]])\n",
      "tensor([[3., 3.],\n",
      "        [3., 3.]])\n",
      "tensor([[4., 4.],\n",
      "        [4., 4.]])\n",
      "tensor([[1.4142, 1.4142],\n",
      "        [1.4142, 1.4142]])\n"
     ]
    }
   ],
   "source": [
    "ones = torch.zeros(2, 2) + 1\n",
    "twos = torch.ones(2, 2) * 2\n",
    "threes = (torch.ones(2, 2) * 7 - 1) / 2\n",
    "fours = twos ** 2\n",
    "sqrt2s = twos ** 0.5\n",
    "\n",
    "print(ones)\n",
    "print(twos)\n",
    "print(threes)\n",
    "print(fours)\n",
    "print(sqrt2s)"
   ]
  },
  {
   "cell_type": "code",
   "execution_count": null,
   "metadata": {},
   "outputs": [
    {
     "name": "stdout",
     "output_type": "stream",
     "text": [
      "tensor([[-7.9426, -6.5807],\n",
      "        [-9.6487, -7.4474]])\n"
     ]
    }
   ],
   "source": [
    "print((x1-2)*5) # Subtract 2 from all elements and multiply by 5"
   ]
  },
  {
   "cell_type": "code",
   "execution_count": null,
   "metadata": {},
   "outputs": [
    {
     "name": "stdout",
     "output_type": "stream",
     "text": [
      "Original Value of x1: tensor([[-9.5885, -9.3161],\n",
      "        [-9.9297, -9.4895]])\n",
      "\n",
      "Absolute value of r:\n",
      "tensor([[9.5885, 9.3161],\n",
      "        [9.9297, 9.4895]])\n"
     ]
    }
   ],
   "source": [
    "x1=x1-10\n",
    "print(\"Original Value of x1:\", x1)\n",
    "print('\\nAbsolute value of r:')\n",
    "print(torch.abs(x1))"
   ]
  },
  {
   "cell_type": "code",
   "execution_count": null,
   "metadata": {},
   "outputs": [
    {
     "name": "stdout",
     "output_type": "stream",
     "text": [
      "\n",
      "Inverse sine of r:\n",
      "tensor([[1.2378, 0.2381],\n",
      "        [0.1992, 0.3392]])\n",
      "\n",
      "Determinant of r:\n",
      "tensor(0.2678)\n",
      "\n",
      "Singular value decomposition of r:\n",
      "torch.return_types.svd(\n",
      "U=tensor([[-0.9573, -0.2892],\n",
      "        [-0.2892,  0.9573]]),\n",
      "S=tensor([1.0144, 0.2640]),\n",
      "V=tensor([[-0.9483, -0.3174],\n",
      "        [-0.3174,  0.9483]]))\n",
      "\n",
      "Average and standard deviation of r:\n",
      "(tensor(0.3494), tensor(0.4279))\n",
      "\n",
      "Maximum value of r:\n",
      "tensor(0.9451)\n"
     ]
    }
   ],
   "source": [
    "r=x2\n",
    "# ...as are trigonometric functions:\n",
    "print('\\nInverse sine of r:')\n",
    "print(torch.asin(r))\n",
    "\n",
    "# ...and linear algebra operations like determinant and singular value decomposition\n",
    "print('\\nDeterminant of r:')\n",
    "print(torch.det(r))\n",
    "print('\\nSingular value decomposition of r:')\n",
    "print(torch.svd(r))\n",
    "\n",
    "# ...and statistical and aggregate operations:\n",
    "print('\\nAverage and standard deviation of r:')\n",
    "print(torch.std_mean(r))\n",
    "print('\\nMaximum value of r:')\n",
    "print(torch.max(r))"
   ]
  },
  {
   "cell_type": "markdown",
   "metadata": {},
   "source": [
    "### Performing Vector Operations on Tensor"
   ]
  },
  {
   "cell_type": "code",
   "execution_count": null,
   "metadata": {},
   "outputs": [
    {
     "ename": "TypeError",
     "evalue": "can only concatenate str (not \"Tensor\") to str",
     "output_type": "error",
     "traceback": [
      "\u001b[0;31m---------------------------------------------------------------------------\u001b[0m\n",
      "\u001b[0;31mTypeError\u001b[0m                                 Traceback (most recent call last)\n",
      "Cell \u001b[0;32mIn[37], line 4\u001b[0m\n",
      "\u001b[1;32m      2\u001b[0m x3\u001b[38;5;241m=\u001b[39mx1\u001b[38;5;241m+\u001b[39mx2\n",
      "\u001b[1;32m      3\u001b[0m x3\u001b[38;5;241m=\u001b[39mtorch\u001b[38;5;241m.\u001b[39madd(x1,x2)\n",
      "\u001b[0;32m----> 4\u001b[0m \u001b[38;5;28mprint\u001b[39m(\u001b[38;5;124;43m'\u001b[39;49m\u001b[38;5;124;43mx1+x2=x3\u001b[39;49m\u001b[38;5;124;43m'\u001b[39;49m\u001b[38;5;241;43m+\u001b[39;49m\u001b[43mx1\u001b[49m\u001b[38;5;241m+\u001b[39m\u001b[38;5;124m\"\u001b[39m\u001b[38;5;124m+\u001b[39m\u001b[38;5;124m\"\u001b[39m\u001b[38;5;241m+\u001b[39mx2\u001b[38;5;241m+\u001b[39m\u001b[38;5;124m\"\u001b[39m\u001b[38;5;124m=\u001b[39m\u001b[38;5;124m\"\u001b[39m\u001b[38;5;241m+\u001b[39mx3)\n",
      "\n",
      "\u001b[0;31mTypeError\u001b[0m: can only concatenate str (not \"Tensor\") to str"
     ]
    }
   ],
   "source": [
    "# Addition of two tensors\n",
    "x3=x1+x2\n",
    "x3=torch.add(x1,x2)\n",
    "print('x1+x2=x3'+x1+\"+\"+x2+\"=\"+x3)"
   ]
  },
  {
   "cell_type": "code",
   "execution_count": null,
   "metadata": {},
   "outputs": [],
   "source": [
    "# Add value to x, an change value(_ after function makes changes in variable)\n",
    "x2.add_(x1)\n",
    "\n",
    "# Subtraction\n",
    "x4=x2-x1\n",
    "x4=torch.sub(x1,x2)"
   ]
  },
  {
   "cell_type": "code",
   "execution_count": null,
   "metadata": {},
   "outputs": [],
   "source": [
    "# Multiplication\n",
    "x5=x2*x1\n",
    "x5=torch.mul(x1,x2)\n",
    "\n",
    "# Division\n",
    "x6=x2/x1\n",
    "x6=torch.div(x1,x2)"
   ]
  }
 ],
 "metadata": {
  "kernelspec": {
   "display_name": "learning_env",
   "language": "python",
   "name": "python3"
  },
  "language_info": {
   "name": "python",
   "version": "3.11.9"
  }
 },
 "nbformat": 4,
 "nbformat_minor": 2
}
